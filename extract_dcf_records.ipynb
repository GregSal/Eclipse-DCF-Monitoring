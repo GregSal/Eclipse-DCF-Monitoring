{
 "cells": [
  {
   "cell_type": "markdown",
   "id": "515fb0c1-fd97-4517-9507-d045544c335d",
   "metadata": {},
   "source": [
    "# Export DCF Records\n",
    "Load a DCF Calculation Log and save the parsed results to a csv file."
   ]
  },
  {
   "cell_type": "markdown",
   "id": "b4c947d4-4835-4cc0-a51b-28621913bd5f",
   "metadata": {},
   "source": [
    "## Setup"
   ]
  },
  {
   "cell_type": "markdown",
   "id": "30ab0f2a-b0fa-4c0f-9a9e-761fb11e72f2",
   "metadata": {},
   "source": [
    "### Imports"
   ]
  },
  {
   "cell_type": "code",
   "execution_count": 1,
   "id": "d9d461c8-49ad-481b-a311-54472d6fc337",
   "metadata": {},
   "outputs": [],
   "source": [
    "from pathlib import Path\n",
    "from datetime import date\n",
    "from datetime import datetime\n",
    "import pandas as pd\n",
    "from load_dcf_records import load_dcf_history, load_dcf_status, concurrent_jobs"
   ]
  },
  {
   "cell_type": "markdown",
   "id": "f3340cc8-81d3-4b91-ad43-820e8abdea2e",
   "metadata": {},
   "source": [
    "### File Paths"
   ]
  },
  {
   "cell_type": "code",
   "execution_count": 2,
   "id": "27bc9a81-ace0-4367-bcc7-1471fa0e716d",
   "metadata": {},
   "outputs": [],
   "source": [
    "work_path = Path(r'\\\\krcc-3\\home\\PHYSICS\\Treatment Planning System')\n",
    "dcf_path = r'DCF Monitoring and Configuration'\n",
    "DCF_history_file_name='dcf_analysis.csv'\n",
    "DCF_history_file = work_path / dcf_path / DCF_history_file_name\n",
    "\n",
    "#current_date = datetime.now().strftime('%b_%d_%Y')\n",
    "#status_file_name=f'dcf_status_{current_date}.csv'\n",
    "status_file_name='dcf_status.csv'   #  New data is appended to file\n",
    "status_file = work_path / dcf_path / status_file_name\n",
    "\n",
    "#jobs_file_name=f'dcf_jobs_{current_date}.csv'\n",
    "jobs_file_name='dcf_jobs.csv'   #  New data is appended to file\n",
    "jobs_file = work_path / dcf_path / jobs_file_name"
   ]
  },
  {
   "cell_type": "markdown",
   "id": "0486989c-5cf8-45f8-b51e-37840762d181",
   "metadata": {},
   "source": [
    "## Extract Data"
   ]
  },
  {
   "cell_type": "markdown",
   "id": "21a5c654-4292-4079-87e6-a000ed35c959",
   "metadata": {},
   "source": [
    "### Server Status"
   ]
  },
  {
   "cell_type": "code",
   "execution_count": 3,
   "id": "3b9001d9-a447-4440-91ff-e1fac00b583b",
   "metadata": {},
   "outputs": [],
   "source": [
    "status_table = load_dcf_status()\n",
    "status_table['StatusTime'] = datetime.now()\n",
    "status_table.to_csv(status_file, mode='a',header=False, index=False)"
   ]
  },
  {
   "cell_type": "markdown",
   "id": "a1dbc67d-1e1e-4aeb-a026-9d197b1ea496",
   "metadata": {},
   "source": [
    "### Add History records to __.csv__ file"
   ]
  },
  {
   "cell_type": "code",
   "execution_count": 4,
   "id": "aad4ec0a-0113-4b67-be0f-972b852614fb",
   "metadata": {},
   "outputs": [],
   "source": [
    "# time_span options are: All, Month, Week, Day, Hour, Now\n",
    "calc_history = load_dcf_history(time_span='All', table_name='History')\n",
    "calc_history.to_csv(DCF_history_file, mode='a',header=False, index=False)"
   ]
  },
  {
   "cell_type": "markdown",
   "id": "97b86b1f-2591-4b6e-85b8-7027e5516bea",
   "metadata": {},
   "source": [
    "### Read complete history file and remove duplicate entries"
   ]
  },
  {
   "cell_type": "code",
   "execution_count": 5,
   "id": "faf23965-36dd-4253-aef2-afb57f6facc7",
   "metadata": {},
   "outputs": [],
   "source": [
    "# Remove duplicates from the cumulative record\n",
    "calc_history = pd.read_csv(DCF_history_file)\n",
    "calc_history.drop_duplicates(inplace=True)\n",
    "calc_history.to_csv(DCF_history_file, mode='w',header=True, index=False)"
   ]
  },
  {
   "cell_type": "markdown",
   "id": "8dadd1ea-60c2-40f1-861d-9a6c2dd816df",
   "metadata": {},
   "source": [
    "### Analyze job results"
   ]
  },
  {
   "cell_type": "code",
   "execution_count": 6,
   "id": "5fe3c925-69b7-4920-9039-403a4e3d2e7b",
   "metadata": {},
   "outputs": [],
   "source": [
    "job_count = concurrent_jobs(calc_history)\n",
    "job_count.to_csv(jobs_file, mode='a',header=False, index=False)"
   ]
  },
  {
   "cell_type": "markdown",
   "id": "7de0404f-6d8c-4815-962c-04a48724fd11",
   "metadata": {},
   "source": [
    "### Read complete jobs file and remove duplicate entries"
   ]
  },
  {
   "cell_type": "code",
   "execution_count": 7,
   "id": "ae6aafa6-0063-490d-902e-c7dc9efa4dbd",
   "metadata": {},
   "outputs": [],
   "source": [
    "# Remove duplicates from the cumulative record\n",
    "job_count = pd.read_csv(jobs_file)\n",
    "job_count.drop_duplicates(inplace=True)\n",
    "job_count.to_csv(jobs_file, mode='w',header=True, index=False)"
   ]
  },
  {
   "cell_type": "code",
   "execution_count": 8,
   "id": "dba838de-08f1-4e70-9c71-308de168fd32",
   "metadata": {},
   "outputs": [],
   "source": [
    "#sheet_name='DCF_Data_' + str(date.today())\n",
    "#file_name='dcf_analysis.xlsx'\n",
    "#file = work_path / dcf_path / file_name\n",
    "#calc_history = Load_dcf_record(time_span='Week', table_name='History')\n",
    "#with pd.ExcelWriter(str(file), engine='openpyxl', mode='a') as writer:\n",
    "#    calc_history.to_excel(writer, sheet_name=sheet_name)\n",
    "#calc_history = Load_dcf_record(time_span='Day', table_name='History')\n",
    "# TODO Allow for adding to existing csv file"
   ]
  }
 ],
 "metadata": {
  "kernelspec": {
   "display_name": "Python 3 (ipykernel)",
   "language": "python",
   "name": "python3"
  },
  "language_info": {
   "codemirror_mode": {
    "name": "ipython",
    "version": 3
   },
   "file_extension": ".py",
   "mimetype": "text/x-python",
   "name": "python",
   "nbconvert_exporter": "python",
   "pygments_lexer": "ipython3",
   "version": "3.9.6"
  }
 },
 "nbformat": 4,
 "nbformat_minor": 5
}
