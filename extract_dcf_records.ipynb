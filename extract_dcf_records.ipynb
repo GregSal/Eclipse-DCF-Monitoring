{
 "cells": [
  {
   "cell_type": "markdown",
   "id": "515fb0c1-fd97-4517-9507-d045544c335d",
   "metadata": {},
   "source": [
    "# Export DCF Records\n",
    "Load a DCF Calculation Log and save the parsed results to a csv file."
   ]
  },
  {
   "cell_type": "markdown",
   "id": "b4c947d4-4835-4cc0-a51b-28621913bd5f",
   "metadata": {},
   "source": [
    "## Setup"
   ]
  },
  {
   "cell_type": "markdown",
   "id": "30ab0f2a-b0fa-4c0f-9a9e-761fb11e72f2",
   "metadata": {},
   "source": [
    "### Imports"
   ]
  },
  {
   "cell_type": "code",
   "execution_count": 26,
   "id": "d9d461c8-49ad-481b-a311-54472d6fc337",
   "metadata": {},
   "outputs": [],
   "source": [
    "from pathlib import Path\n",
    "from datetime import date\n",
    "from datetime import datetime\n",
    "import pandas as pd\n",
    "from load_dcf_records import load_dcf_history, load_dcf_status, concurrent_jobs"
   ]
  },
  {
   "cell_type": "markdown",
   "id": "f3340cc8-81d3-4b91-ad43-820e8abdea2e",
   "metadata": {},
   "source": [
    "### File Paths"
   ]
  },
  {
   "cell_type": "code",
   "execution_count": 27,
   "id": "27bc9a81-ace0-4367-bcc7-1471fa0e716d",
   "metadata": {},
   "outputs": [],
   "source": [
    "work_path = Path(r'\\\\krcc-3\\home\\PHYSICS\\Treatment Planning System')\n",
    "dcf_path = r'DCF Monitoring and Configuration'\n",
    "DCF_history_file_name='dcf_analysis_test.csv'\n",
    "DCF_history_file = work_path / dcf_path / DCF_history_file_name\n",
    "\n",
    "#current_date = datetime.now().strftime('%b_%d_%Y')\n",
    "#status_file_name=f'dcf_status_{current_date}.csv'\n",
    "status_file_name='dcf_status_test.csv'   #  New data is appended to file\n",
    "status_file = work_path / dcf_path / status_file_name\n",
    "\n",
    "#jobs_file_name=f'dcf_jobs_{current_date}.csv'\n",
    "jobs_file_name='dcf_jobs_test.csv'   #  New data is appended to file\n",
    "jobs_file = work_path / dcf_path / jobs_file_name"
   ]
  },
  {
   "cell_type": "markdown",
   "id": "0486989c-5cf8-45f8-b51e-37840762d181",
   "metadata": {},
   "source": [
    "## Extract Data"
   ]
  },
  {
   "cell_type": "markdown",
   "id": "21a5c654-4292-4079-87e6-a000ed35c959",
   "metadata": {},
   "source": [
    "### Server Status"
   ]
  },
  {
   "cell_type": "code",
   "execution_count": 3,
   "id": "3b9001d9-a447-4440-91ff-e1fac00b583b",
   "metadata": {},
   "outputs": [],
   "source": [
    "status_table = load_dcf_status()\n",
    "status_table['StatusTime'] = datetime.now()\n",
    "status_table.to_csv(status_file, mode='a',header=True, index=False)"
   ]
  },
  {
   "cell_type": "markdown",
   "id": "a1dbc67d-1e1e-4aeb-a026-9d197b1ea496",
   "metadata": {},
   "source": [
    "### Add History records to __.csv__ file"
   ]
  },
  {
   "cell_type": "code",
   "execution_count": 4,
   "id": "aad4ec0a-0113-4b67-be0f-972b852614fb",
   "metadata": {},
   "outputs": [],
   "source": [
    "# time_span options are: All, Month, Week, Day, Hour, Now\n",
    "calc_history = load_dcf_history(time_span='All', table_name='History')\n",
    "calc_history.to_csv(DCF_history_file, mode='a',header=True, index=False)"
   ]
  },
  {
   "cell_type": "markdown",
   "id": "97b86b1f-2591-4b6e-85b8-7027e5516bea",
   "metadata": {},
   "source": [
    "### Read complete history file and remove duplicate entries"
   ]
  },
  {
   "cell_type": "code",
   "execution_count": 5,
   "id": "faf23965-36dd-4253-aef2-afb57f6facc7",
   "metadata": {},
   "outputs": [],
   "source": [
    "# Remove duplicates from the cumulative record\n",
    "calc_history = pd.read_csv(DCF_history_file)\n",
    "calc_history.drop_duplicates(inplace=True)\n",
    "calc_history.to_csv(DCF_history_file, mode='w',header=True, index=False)"
   ]
  },
  {
   "cell_type": "markdown",
   "id": "8dadd1ea-60c2-40f1-861d-9a6c2dd816df",
   "metadata": {},
   "source": [
    "### Analyze job results"
   ]
  },
  {
   "cell_type": "code",
   "execution_count": 6,
   "id": "5fe3c925-69b7-4920-9039-403a4e3d2e7b",
   "metadata": {},
   "outputs": [],
   "source": [
    "job_count = concurrent_jobs(calc_history)\n",
    "job_count.to_csv(jobs_file, mode='a',header=True, index=False)"
   ]
  },
  {
   "cell_type": "markdown",
   "id": "7de0404f-6d8c-4815-962c-04a48724fd11",
   "metadata": {},
   "source": [
    "### Read complete jobs file and remove duplicate entries"
   ]
  },
  {
   "cell_type": "code",
   "execution_count": 7,
   "id": "ae6aafa6-0063-490d-902e-c7dc9efa4dbd",
   "metadata": {},
   "outputs": [],
   "source": [
    "# Remove duplicates from the cumulative record\n",
    "job_count = pd.read_csv(jobs_file)\n",
    "job_count.drop_duplicates(inplace=True)\n",
    "job_count.to_csv(jobs_file, mode='w',header=True, index=False)"
   ]
  },
  {
   "cell_type": "code",
   "execution_count": 8,
   "id": "dba838de-08f1-4e70-9c71-308de168fd32",
   "metadata": {},
   "outputs": [],
   "source": [
    "#sheet_name='DCF_Data_' + str(date.today())\n",
    "#file_name='dcf_analysis.xlsx'\n",
    "#file = work_path / dcf_path / file_name\n",
    "#calc_history = Load_dcf_record(time_span='Week', table_name='History')\n",
    "#with pd.ExcelWriter(str(file), engine='openpyxl', mode='a') as writer:\n",
    "#    calc_history.to_excel(writer, sheet_name=sheet_name)\n",
    "#calc_history = Load_dcf_record(time_span='Day', table_name='History')\n"
   ]
  },
  {
   "cell_type": "code",
   "execution_count": 5,
   "id": "90b13c75",
   "metadata": {},
   "outputs": [],
   "source": [
    "from load_dcf_records import load_dcf_execution"
   ]
  },
  {
   "cell_type": "code",
   "execution_count": 6,
   "id": "caa2da9d",
   "metadata": {},
   "outputs": [
    {
     "data": {
      "text/html": [
       "<div>\n",
       "<style scoped>\n",
       "    .dataframe tbody tr th:only-of-type {\n",
       "        vertical-align: middle;\n",
       "    }\n",
       "\n",
       "    .dataframe tbody tr th {\n",
       "        vertical-align: top;\n",
       "    }\n",
       "\n",
       "    .dataframe thead th {\n",
       "        text-align: right;\n",
       "    }\n",
       "</style>\n",
       "<table border=\"1\" class=\"dataframe\">\n",
       "  <thead>\n",
       "    <tr style=\"text-align: right;\">\n",
       "      <th></th>\n",
       "      <th>Servant</th>\n",
       "      <th>ServiceReference</th>\n",
       "      <th>JobStartTime</th>\n",
       "      <th>JobEndTime</th>\n",
       "      <th>JobDuration</th>\n",
       "      <th>ProcessorTime</th>\n",
       "      <th>ExpectedProcessorUsage</th>\n",
       "      <th>ExpectedMemoryUsage</th>\n",
       "      <th>ExpectedGPUusage</th>\n",
       "      <th>ExpectedGPUmemoryUsage</th>\n",
       "      <th>GPUs</th>\n",
       "      <th>ActualProcessorUsage</th>\n",
       "      <th>ActualMemoryUsage</th>\n",
       "    </tr>\n",
       "  </thead>\n",
       "  <tbody>\n",
       "    <tr>\n",
       "      <th>0</th>\n",
       "      <td>p2996@zvar-imx-6</td>\n",
       "      <td>AAA</td>\n",
       "      <td>2023-09-06 08:07:59.010</td>\n",
       "      <td>2023-09-06 08:13:54.543</td>\n",
       "      <td>355.533</td>\n",
       "      <td>4372.0</td>\n",
       "      <td>4.000000</td>\n",
       "      <td>1245.339966</td>\n",
       "      <td>0.000000</td>\n",
       "      <td>0.000000</td>\n",
       "      <td></td>\n",
       "      <td>12.297100</td>\n",
       "      <td>3766.199951</td>\n",
       "    </tr>\n",
       "    <tr>\n",
       "      <th>1</th>\n",
       "      <td>p4468@zvar-imx-2</td>\n",
       "      <td>AAA</td>\n",
       "      <td>2023-09-06 08:07:59.090</td>\n",
       "      <td>2023-09-06 08:13:34.409</td>\n",
       "      <td>335.319</td>\n",
       "      <td>4293.0</td>\n",
       "      <td>4.000000</td>\n",
       "      <td>1245.339966</td>\n",
       "      <td>0.000000</td>\n",
       "      <td>0.000000</td>\n",
       "      <td></td>\n",
       "      <td>12.804400</td>\n",
       "      <td>3745.550049</td>\n",
       "    </tr>\n",
       "    <tr>\n",
       "      <th>2</th>\n",
       "      <td>p7744@varfaspr2</td>\n",
       "      <td>AAA</td>\n",
       "      <td>2023-09-06 08:07:58.842</td>\n",
       "      <td>2023-09-06 08:12:32.323</td>\n",
       "      <td>273.481</td>\n",
       "      <td>3703.0</td>\n",
       "      <td>6.400000</td>\n",
       "      <td>1245.339966</td>\n",
       "      <td>0.000000</td>\n",
       "      <td>0.000000</td>\n",
       "      <td></td>\n",
       "      <td>13.541600</td>\n",
       "      <td>3832.389893</td>\n",
       "    </tr>\n",
       "  </tbody>\n",
       "</table>\n",
       "</div>"
      ],
      "text/plain": [
       "            Servant ServiceReference            JobStartTime  \\\n",
       "0  p2996@zvar-imx-6              AAA 2023-09-06 08:07:59.010   \n",
       "1  p4468@zvar-imx-2              AAA 2023-09-06 08:07:59.090   \n",
       "2   p7744@varfaspr2              AAA 2023-09-06 08:07:58.842   \n",
       "\n",
       "               JobEndTime  JobDuration  ProcessorTime ExpectedProcessorUsage  \\\n",
       "0 2023-09-06 08:13:54.543      355.533         4372.0               4.000000   \n",
       "1 2023-09-06 08:13:34.409      335.319         4293.0               4.000000   \n",
       "2 2023-09-06 08:12:32.323      273.481         3703.0               6.400000   \n",
       "\n",
       "  ExpectedMemoryUsage ExpectedGPUusage ExpectedGPUmemoryUsage GPUs  \\\n",
       "0         1245.339966         0.000000               0.000000        \n",
       "1         1245.339966         0.000000               0.000000        \n",
       "2         1245.339966         0.000000               0.000000        \n",
       "\n",
       "  ActualProcessorUsage ActualMemoryUsage  \n",
       "0            12.297100       3766.199951  \n",
       "1            12.804400       3745.550049  \n",
       "2            13.541600       3832.389893  "
      ]
     },
     "execution_count": 6,
     "metadata": {},
     "output_type": "execute_result"
    }
   ],
   "source": [
    "a = load_dcf_execution(time_span='All', table_name='HistorySummary')\n",
    "a"
   ]
  },
  {
   "cell_type": "code",
   "execution_count": 1,
   "id": "f77a32e4",
   "metadata": {},
   "outputs": [],
   "source": [
    "from load_dcf_records import load_dcf_services"
   ]
  },
  {
   "cell_type": "code",
   "execution_count": 3,
   "id": "7fcd66ab",
   "metadata": {},
   "outputs": [
    {
     "data": {
      "text/html": [
       "<div>\n",
       "<style scoped>\n",
       "    .dataframe tbody tr th:only-of-type {\n",
       "        vertical-align: middle;\n",
       "    }\n",
       "\n",
       "    .dataframe tbody tr th {\n",
       "        vertical-align: top;\n",
       "    }\n",
       "\n",
       "    .dataframe thead th {\n",
       "        text-align: right;\n",
       "    }\n",
       "</style>\n",
       "<table border=\"1\" class=\"dataframe\">\n",
       "  <thead>\n",
       "    <tr style=\"text-align: right;\">\n",
       "      <th></th>\n",
       "      <th>Algorithm</th>\n",
       "      <th>Calculation</th>\n",
       "      <th>Version</th>\n",
       "      <th>AgentCount</th>\n",
       "      <th>ClientCount</th>\n",
       "      <th>ActiveJobs</th>\n",
       "      <th>WaitingJobs</th>\n",
       "    </tr>\n",
       "  </thead>\n",
       "  <tbody>\n",
       "    <tr>\n",
       "      <th>0</th>\n",
       "      <td>AAA</td>\n",
       "      <td>FieldFluence</td>\n",
       "      <td>11.0.31.62671</td>\n",
       "      <td>18</td>\n",
       "      <td>0</td>\n",
       "      <td>0</td>\n",
       "      <td>0</td>\n",
       "    </tr>\n",
       "    <tr>\n",
       "      <th>1</th>\n",
       "      <td>AAA</td>\n",
       "      <td>FieldFluence</td>\n",
       "      <td>13.6.23.82217</td>\n",
       "      <td>18</td>\n",
       "      <td>0</td>\n",
       "      <td>0</td>\n",
       "      <td>0</td>\n",
       "    </tr>\n",
       "    <tr>\n",
       "      <th>2</th>\n",
       "      <td>AAA</td>\n",
       "      <td>FieldFluence</td>\n",
       "      <td>15.1.61.110305</td>\n",
       "      <td>18</td>\n",
       "      <td>0</td>\n",
       "      <td>0</td>\n",
       "      <td>0</td>\n",
       "    </tr>\n",
       "    <tr>\n",
       "      <th>3</th>\n",
       "      <td>AAA</td>\n",
       "      <td>FieldFluence</td>\n",
       "      <td>15.6.06.111663</td>\n",
       "      <td>18</td>\n",
       "      <td>0</td>\n",
       "      <td>0</td>\n",
       "      <td>0</td>\n",
       "    </tr>\n",
       "    <tr>\n",
       "      <th>4</th>\n",
       "      <td>AAA</td>\n",
       "      <td>FieldVolumeDose</td>\n",
       "      <td>10.0.25.9776</td>\n",
       "      <td>18</td>\n",
       "      <td>0</td>\n",
       "      <td>0</td>\n",
       "      <td>0</td>\n",
       "    </tr>\n",
       "    <tr>\n",
       "      <th>...</th>\n",
       "      <td>...</td>\n",
       "      <td>...</td>\n",
       "      <td>...</td>\n",
       "      <td>...</td>\n",
       "      <td>...</td>\n",
       "      <td>...</td>\n",
       "      <td>...</td>\n",
       "    </tr>\n",
       "    <tr>\n",
       "      <th>199</th>\n",
       "      <td>Smart_LMC</td>\n",
       "      <td>LeafMotionsToActualFluence</td>\n",
       "      <td>10.0.28.9833</td>\n",
       "      <td>18</td>\n",
       "      <td>0</td>\n",
       "      <td>0</td>\n",
       "      <td>0</td>\n",
       "    </tr>\n",
       "    <tr>\n",
       "      <th>200</th>\n",
       "      <td>Smart_LMC</td>\n",
       "      <td>OptimalFluenceToLeafMotions</td>\n",
       "      <td>11.0.31.62671</td>\n",
       "      <td>18</td>\n",
       "      <td>0</td>\n",
       "      <td>0</td>\n",
       "      <td>0</td>\n",
       "    </tr>\n",
       "    <tr>\n",
       "      <th>201</th>\n",
       "      <td>Smart_LMC</td>\n",
       "      <td>OptimalFluenceToLeafMotions</td>\n",
       "      <td>13.6.23.82217</td>\n",
       "      <td>18</td>\n",
       "      <td>0</td>\n",
       "      <td>0</td>\n",
       "      <td>0</td>\n",
       "    </tr>\n",
       "    <tr>\n",
       "      <th>202</th>\n",
       "      <td>Smart_LMC</td>\n",
       "      <td>OptimalFluenceToLeafMotions</td>\n",
       "      <td>15.1.61.99312</td>\n",
       "      <td>18</td>\n",
       "      <td>0</td>\n",
       "      <td>0</td>\n",
       "      <td>0</td>\n",
       "    </tr>\n",
       "    <tr>\n",
       "      <th>203</th>\n",
       "      <td>Smart_LMC</td>\n",
       "      <td>OptimalFluenceToLeafMotions</td>\n",
       "      <td>15.6.06.111663</td>\n",
       "      <td>18</td>\n",
       "      <td>0</td>\n",
       "      <td>0</td>\n",
       "      <td>0</td>\n",
       "    </tr>\n",
       "  </tbody>\n",
       "</table>\n",
       "<p>204 rows × 7 columns</p>\n",
       "</div>"
      ],
      "text/plain": [
       "     Algorithm                  Calculation         Version AgentCount  \\\n",
       "0          AAA                 FieldFluence   11.0.31.62671         18   \n",
       "1          AAA                 FieldFluence   13.6.23.82217         18   \n",
       "2          AAA                 FieldFluence  15.1.61.110305         18   \n",
       "3          AAA                 FieldFluence  15.6.06.111663         18   \n",
       "4          AAA              FieldVolumeDose    10.0.25.9776         18   \n",
       "..         ...                          ...             ...        ...   \n",
       "199  Smart_LMC   LeafMotionsToActualFluence    10.0.28.9833         18   \n",
       "200  Smart_LMC  OptimalFluenceToLeafMotions   11.0.31.62671         18   \n",
       "201  Smart_LMC  OptimalFluenceToLeafMotions   13.6.23.82217         18   \n",
       "202  Smart_LMC  OptimalFluenceToLeafMotions   15.1.61.99312         18   \n",
       "203  Smart_LMC  OptimalFluenceToLeafMotions  15.6.06.111663         18   \n",
       "\n",
       "    ClientCount ActiveJobs WaitingJobs  \n",
       "0             0          0           0  \n",
       "1             0          0           0  \n",
       "2             0          0           0  \n",
       "3             0          0           0  \n",
       "4             0          0           0  \n",
       "..          ...        ...         ...  \n",
       "199           0          0           0  \n",
       "200           0          0           0  \n",
       "201           0          0           0  \n",
       "202           0          0           0  \n",
       "203           0          0           0  \n",
       "\n",
       "[204 rows x 7 columns]"
      ]
     },
     "execution_count": 3,
     "metadata": {},
     "output_type": "execute_result"
    }
   ],
   "source": [
    "b = load_dcf_services(time_span='All')\n",
    "b"
   ]
  },
  {
   "cell_type": "code",
   "execution_count": 7,
   "id": "7a074309",
   "metadata": {},
   "outputs": [],
   "source": [
    "from load_dcf_records import get_dcf_table, parse_dcf_query"
   ]
  },
  {
   "cell_type": "code",
   "execution_count": 8,
   "id": "8866253f",
   "metadata": {},
   "outputs": [],
   "source": [
    "from load_dcf_records import TextParse, trim_text"
   ]
  },
  {
   "cell_type": "code",
   "execution_count": 19,
   "id": "a52db84f",
   "metadata": {},
   "outputs": [],
   "source": [
    "from bs4 import BeautifulSoup\n",
    "import requests"
   ]
  },
  {
   "cell_type": "code",
   "execution_count": 20,
   "id": "de2a3a86",
   "metadata": {},
   "outputs": [],
   "source": [
    "dcf_server=r'http://ariadicompv1:57580'\n",
    "dcf_query_name = 'Trace'\n",
    "dcf_url = dcf_server + '/' + dcf_query_name\n",
    "page = requests.get(dcf_url, timeout=30)\n"
   ]
  },
  {
   "cell_type": "code",
   "execution_count": 22,
   "id": "30927226",
   "metadata": {},
   "outputs": [],
   "source": [
    "soup = BeautifulSoup(page.content, 'html.parser')"
   ]
  },
  {
   "cell_type": "code",
   "execution_count": 28,
   "id": "897b0a03",
   "metadata": {},
   "outputs": [],
   "source": [
    "trace_file_name='dcf_log_test.csv'   #  New data is appended to file\n",
    "log_file = work_path / dcf_path / trace_file_name\n"
   ]
  },
  {
   "cell_type": "code",
   "execution_count": 30,
   "id": "c3636ff2",
   "metadata": {},
   "outputs": [
    {
     "data": {
      "text/plain": [
       "1311417"
      ]
     },
     "execution_count": 30,
     "metadata": {},
     "output_type": "execute_result"
    }
   ],
   "source": [
    "log_file.write_text(str(soup))"
   ]
  },
  {
   "cell_type": "code",
   "execution_count": 24,
   "id": "d7534600",
   "metadata": {},
   "outputs": [
    {
     "data": {
      "text/plain": [
       "bs4.BeautifulSoup"
      ]
     },
     "execution_count": 24,
     "metadata": {},
     "output_type": "execute_result"
    }
   ],
   "source": [
    "type(soup)"
   ]
  },
  {
   "cell_type": "code",
   "execution_count": 14,
   "id": "57820aac",
   "metadata": {},
   "outputs": [
    {
     "data": {
      "text/plain": [
       "<table>\n",
       "<tr><th align=\"right\">Started</th><td>2023-09-06 08:02:49.976</td></tr><th align=\"right\">Up time</th><td>00:52:25.718</td>\n",
       "<tr onclick=\"location='/AgentSystemInfoOverview.html'\" onmouseout=\"this.className=''\" onmouseover=\"this.className='over'; this.style.cursor='pointer'\"><th align=\"right\">Agents</th><td>18</td></tr>\n",
       "<tr onclick=\"location='/ClientSystemInfoOverview.html'\" onmouseout=\"this.className=''\" onmouseover=\"this.className='over'; this.style.cursor='pointer'\"><th align=\"right\">Clients</th><td>0</td></tr>\n",
       "<tr onclick=\"location='/CallsInProgress.html'\" onmouseout=\"this.className=''\" onmouseover=\"this.className='over'; this.style.cursor='pointer'\"><th align=\"right\">Calls in progress</th><td>0</td></tr>\n",
       "<tr onclick=\"location='/CallsWaiting.html'\" onmouseout=\"this.className=''\" onmouseover=\"this.className='over'; this.style.cursor='pointer'\"><th align=\"right\">Calls waiting</th><td>0</td></tr>\n",
       "</table>"
      ]
     },
     "execution_count": 14,
     "metadata": {},
     "output_type": "execute_result"
    }
   ],
   "source": [
    "c = get_dcf_table(time='All', query='Status')\n",
    "c"
   ]
  },
  {
   "cell_type": "code",
   "execution_count": 15,
   "id": "78f656fa",
   "metadata": {},
   "outputs": [
    {
     "data": {
      "text/html": [
       "<div>\n",
       "<style scoped>\n",
       "    .dataframe tbody tr th:only-of-type {\n",
       "        vertical-align: middle;\n",
       "    }\n",
       "\n",
       "    .dataframe tbody tr th {\n",
       "        vertical-align: top;\n",
       "    }\n",
       "\n",
       "    .dataframe thead th {\n",
       "        text-align: right;\n",
       "    }\n",
       "</style>\n",
       "<table border=\"1\" class=\"dataframe\">\n",
       "  <thead>\n",
       "    <tr style=\"text-align: right;\">\n",
       "      <th></th>\n",
       "      <th>Started</th>\n",
       "    </tr>\n",
       "  </thead>\n",
       "  <tbody>\n",
       "    <tr>\n",
       "      <th>0</th>\n",
       "      <td>18</td>\n",
       "    </tr>\n",
       "    <tr>\n",
       "      <th>1</th>\n",
       "      <td>0</td>\n",
       "    </tr>\n",
       "    <tr>\n",
       "      <th>2</th>\n",
       "      <td>0</td>\n",
       "    </tr>\n",
       "  </tbody>\n",
       "</table>\n",
       "</div>"
      ],
      "text/plain": [
       "  Started\n",
       "0      18\n",
       "1       0\n",
       "2       0"
      ]
     },
     "execution_count": 15,
     "metadata": {},
     "output_type": "execute_result"
    }
   ],
   "source": [
    "c = parse_dcf_query(c)\n",
    "c"
   ]
  },
  {
   "cell_type": "code",
   "execution_count": null,
   "id": "79bdbf5b",
   "metadata": {},
   "outputs": [
    {
     "data": {
      "text/plain": [
       "<table><tr><th align=\"right\">Id</th><td>VCDistributor_p7956@ariadicompv1</td></tr>\n",
       "<tr><th align=\"right\">Host name</th><td>ariadicompv1</td></tr>\n",
       "<tr><th align=\"right\">IP address</th><td></td></tr>\n",
       "<tr><th align=\"right\">Process id</th><td>7956</td></tr>\n",
       "<tr><th align=\"right\">Connection established</th><td>2023-09-06 08:02:49.976</td></tr>\n",
       "<tr><th align=\"right\">User name</th><td>ARIADICOMPV1$</td></tr>\n",
       "<tr><th align=\"right\">Software version</th><td>15.5.13.1 (64-bit)</td></tr>\n",
       "<tr><th align=\"right\">Operating system</th><td>Windows Server 2016</td></tr>\n",
       "<tr><th align=\"right\">CPU type</th><td>X64</td></tr>\n",
       "<tr><th align=\"right\">CPU count</th><td>4</td></tr>\n",
       "<tr><th align=\"right\">CPU info</th><td>Intel(R) Xeon(R) CPU E5-2650 v3 @ 2.30GHz</td></tr>\n",
       "<tr><th align=\"right\">CPU layout</th><td>2 x 2-Core</td></tr>\n",
       "<tr><th align=\"right\">CPU score</th><td></td></tr>\n",
       "<tr><th align=\"right\">Memory size (MB)</th><td>8191</td></tr>\n",
       "<tr><th align=\"right\">LAAAA space (MB)</th><td>4096</td></tr>\n",
       "<tr><th align=\"right\">GPUs</th><td></td></tr>\n",
       "<tr><th align=\"right\">Link speed (Mbps)</th><td></td></tr>\n",
       "</table>"
      ]
     },
     "metadata": {},
     "output_type": "display_data"
    }
   ],
   "source": [
    "c = get_dcf_table(time='All', query='System')\n",
    "c"
   ]
  },
  {
   "cell_type": "code",
   "execution_count": null,
   "id": "505728d2",
   "metadata": {},
   "outputs": [],
   "source": [
    "c = parse_dcf_query(c)"
   ]
  },
  {
   "cell_type": "code",
   "execution_count": 10,
   "id": "f958f99b",
   "metadata": {},
   "outputs": [
    {
     "data": {
      "text/html": [
       "<div>\n",
       "<style scoped>\n",
       "    .dataframe tbody tr th:only-of-type {\n",
       "        vertical-align: middle;\n",
       "    }\n",
       "\n",
       "    .dataframe tbody tr th {\n",
       "        vertical-align: top;\n",
       "    }\n",
       "\n",
       "    .dataframe thead th {\n",
       "        text-align: right;\n",
       "    }\n",
       "</style>\n",
       "<table border=\"1\" class=\"dataframe\">\n",
       "  <thead>\n",
       "    <tr style=\"text-align: right;\">\n",
       "      <th></th>\n",
       "      <th>Id</th>\n",
       "    </tr>\n",
       "  </thead>\n",
       "  <tbody>\n",
       "    <tr>\n",
       "      <th>0</th>\n",
       "      <td>ariadicompv1</td>\n",
       "    </tr>\n",
       "    <tr>\n",
       "      <th>1</th>\n",
       "      <td></td>\n",
       "    </tr>\n",
       "    <tr>\n",
       "      <th>2</th>\n",
       "      <td>7956</td>\n",
       "    </tr>\n",
       "    <tr>\n",
       "      <th>3</th>\n",
       "      <td>2023-09-06 08:02:49.976</td>\n",
       "    </tr>\n",
       "    <tr>\n",
       "      <th>4</th>\n",
       "      <td>ARIADICOMPV1$</td>\n",
       "    </tr>\n",
       "    <tr>\n",
       "      <th>5</th>\n",
       "      <td>15.5.13.1 (64-bit)</td>\n",
       "    </tr>\n",
       "    <tr>\n",
       "      <th>6</th>\n",
       "      <td>Windows Server 2016</td>\n",
       "    </tr>\n",
       "    <tr>\n",
       "      <th>7</th>\n",
       "      <td>X64</td>\n",
       "    </tr>\n",
       "    <tr>\n",
       "      <th>8</th>\n",
       "      <td>4</td>\n",
       "    </tr>\n",
       "    <tr>\n",
       "      <th>9</th>\n",
       "      <td>Intel(R) Xeon(R) CPU E5-2650 v3 @ 2.30GHz</td>\n",
       "    </tr>\n",
       "    <tr>\n",
       "      <th>10</th>\n",
       "      <td>2 x 2-Core</td>\n",
       "    </tr>\n",
       "    <tr>\n",
       "      <th>11</th>\n",
       "      <td></td>\n",
       "    </tr>\n",
       "    <tr>\n",
       "      <th>12</th>\n",
       "      <td>8191</td>\n",
       "    </tr>\n",
       "    <tr>\n",
       "      <th>13</th>\n",
       "      <td>4096</td>\n",
       "    </tr>\n",
       "    <tr>\n",
       "      <th>14</th>\n",
       "      <td></td>\n",
       "    </tr>\n",
       "  </tbody>\n",
       "</table>\n",
       "</div>"
      ],
      "text/plain": [
       "                                           Id\n",
       "0                                ariadicompv1\n",
       "1                                            \n",
       "2                                        7956\n",
       "3                     2023-09-06 08:02:49.976\n",
       "4                               ARIADICOMPV1$\n",
       "5                          15.5.13.1 (64-bit)\n",
       "6                         Windows Server 2016\n",
       "7                                         X64\n",
       "8                                           4\n",
       "9   Intel(R) Xeon(R) CPU E5-2650 v3 @ 2.30GHz\n",
       "10                                 2 x 2-Core\n",
       "11                                           \n",
       "12                                       8191\n",
       "13                                       4096\n",
       "14                                           "
      ]
     },
     "execution_count": 10,
     "metadata": {},
     "output_type": "execute_result"
    }
   ],
   "source": [
    "c"
   ]
  },
  {
   "cell_type": "code",
   "execution_count": 36,
   "id": "1856be68",
   "metadata": {},
   "outputs": [],
   "source": [
    "c['Algorithm'] = c['Service name']\n",
    "c['Calculation'] = c['Service name']\n",
    "c['Version'] = c['Service name']"
   ]
  },
  {
   "cell_type": "code",
   "execution_count": 37,
   "id": "dae7adad",
   "metadata": {},
   "outputs": [],
   "source": [
    "text_settings = [\n",
    "    TextParse('Algorithm', token='.', keep_split=0, max_splits=1),\n",
    "    TextParse('Calculation', token='.', keep_split=1, max_splits=2),\n",
    "    TextParse('Version', token='.', keep_split=2, max_splits=2),\n",
    "    TextParse('Version', token='x', keep_split=0, max_splits=1, right=True)\n",
    "    ]"
   ]
  },
  {
   "cell_type": "code",
   "execution_count": 38,
   "id": "056ff5c2",
   "metadata": {},
   "outputs": [
    {
     "data": {
      "text/html": [
       "<div>\n",
       "<style scoped>\n",
       "    .dataframe tbody tr th:only-of-type {\n",
       "        vertical-align: middle;\n",
       "    }\n",
       "\n",
       "    .dataframe tbody tr th {\n",
       "        vertical-align: top;\n",
       "    }\n",
       "\n",
       "    .dataframe thead th {\n",
       "        text-align: right;\n",
       "    }\n",
       "</style>\n",
       "<table border=\"1\" class=\"dataframe\">\n",
       "  <thead>\n",
       "    <tr style=\"text-align: right;\">\n",
       "      <th></th>\n",
       "      <th>Service name</th>\n",
       "      <th>Agents</th>\n",
       "      <th>Clients</th>\n",
       "      <th>Calls in progress</th>\n",
       "      <th>Calls waiting</th>\n",
       "      <th>Algorithm</th>\n",
       "      <th>Calculation</th>\n",
       "      <th>Version</th>\n",
       "    </tr>\n",
       "  </thead>\n",
       "  <tbody>\n",
       "    <tr>\n",
       "      <th>0</th>\n",
       "      <td>AAA.FieldFluence.11.0.31.62671x64</td>\n",
       "      <td>18</td>\n",
       "      <td>0</td>\n",
       "      <td>0</td>\n",
       "      <td>0</td>\n",
       "      <td>AAA</td>\n",
       "      <td>FieldFluence</td>\n",
       "      <td>11.0.31.62671</td>\n",
       "    </tr>\n",
       "    <tr>\n",
       "      <th>1</th>\n",
       "      <td>AAA.FieldFluence.13.6.23.82217x64</td>\n",
       "      <td>18</td>\n",
       "      <td>0</td>\n",
       "      <td>0</td>\n",
       "      <td>0</td>\n",
       "      <td>AAA</td>\n",
       "      <td>FieldFluence</td>\n",
       "      <td>13.6.23.82217</td>\n",
       "    </tr>\n",
       "    <tr>\n",
       "      <th>2</th>\n",
       "      <td>AAA.FieldFluence.15.1.61.110305x64</td>\n",
       "      <td>18</td>\n",
       "      <td>0</td>\n",
       "      <td>0</td>\n",
       "      <td>0</td>\n",
       "      <td>AAA</td>\n",
       "      <td>FieldFluence</td>\n",
       "      <td>15.1.61.110305</td>\n",
       "    </tr>\n",
       "    <tr>\n",
       "      <th>3</th>\n",
       "      <td>AAA.FieldFluence.15.6.06.111663x64</td>\n",
       "      <td>18</td>\n",
       "      <td>0</td>\n",
       "      <td>0</td>\n",
       "      <td>0</td>\n",
       "      <td>AAA</td>\n",
       "      <td>FieldFluence</td>\n",
       "      <td>15.6.06.111663</td>\n",
       "    </tr>\n",
       "    <tr>\n",
       "      <th>4</th>\n",
       "      <td>AAA.FieldVolumeDose.10.0.25.9776x64</td>\n",
       "      <td>18</td>\n",
       "      <td>0</td>\n",
       "      <td>0</td>\n",
       "      <td>0</td>\n",
       "      <td>AAA</td>\n",
       "      <td>FieldVolumeDose</td>\n",
       "      <td>10.0.25.9776</td>\n",
       "    </tr>\n",
       "    <tr>\n",
       "      <th>...</th>\n",
       "      <td>...</td>\n",
       "      <td>...</td>\n",
       "      <td>...</td>\n",
       "      <td>...</td>\n",
       "      <td>...</td>\n",
       "      <td>...</td>\n",
       "      <td>...</td>\n",
       "      <td>...</td>\n",
       "    </tr>\n",
       "    <tr>\n",
       "      <th>199</th>\n",
       "      <td>Smart_LMC.LeafMotionsToActualFluence.10.0.28.9...</td>\n",
       "      <td>18</td>\n",
       "      <td>0</td>\n",
       "      <td>0</td>\n",
       "      <td>0</td>\n",
       "      <td>Smart_LMC</td>\n",
       "      <td>LeafMotionsToActualFluence</td>\n",
       "      <td>10.0.28.9833</td>\n",
       "    </tr>\n",
       "    <tr>\n",
       "      <th>200</th>\n",
       "      <td>Smart_LMC.OptimalFluenceToLeafMotions.11.0.31....</td>\n",
       "      <td>18</td>\n",
       "      <td>0</td>\n",
       "      <td>0</td>\n",
       "      <td>0</td>\n",
       "      <td>Smart_LMC</td>\n",
       "      <td>OptimalFluenceToLeafMotions</td>\n",
       "      <td>11.0.31.62671</td>\n",
       "    </tr>\n",
       "    <tr>\n",
       "      <th>201</th>\n",
       "      <td>Smart_LMC.OptimalFluenceToLeafMotions.13.6.23....</td>\n",
       "      <td>18</td>\n",
       "      <td>0</td>\n",
       "      <td>0</td>\n",
       "      <td>0</td>\n",
       "      <td>Smart_LMC</td>\n",
       "      <td>OptimalFluenceToLeafMotions</td>\n",
       "      <td>13.6.23.82217</td>\n",
       "    </tr>\n",
       "    <tr>\n",
       "      <th>202</th>\n",
       "      <td>Smart_LMC.OptimalFluenceToLeafMotions.15.1.61....</td>\n",
       "      <td>18</td>\n",
       "      <td>0</td>\n",
       "      <td>0</td>\n",
       "      <td>0</td>\n",
       "      <td>Smart_LMC</td>\n",
       "      <td>OptimalFluenceToLeafMotions</td>\n",
       "      <td>15.1.61.99312</td>\n",
       "    </tr>\n",
       "    <tr>\n",
       "      <th>203</th>\n",
       "      <td>Smart_LMC.OptimalFluenceToLeafMotions.15.6.06....</td>\n",
       "      <td>18</td>\n",
       "      <td>0</td>\n",
       "      <td>0</td>\n",
       "      <td>0</td>\n",
       "      <td>Smart_LMC</td>\n",
       "      <td>OptimalFluenceToLeafMotions</td>\n",
       "      <td>15.6.06.111663</td>\n",
       "    </tr>\n",
       "  </tbody>\n",
       "</table>\n",
       "<p>204 rows × 8 columns</p>\n",
       "</div>"
      ],
      "text/plain": [
       "                                          Service name Agents Clients  \\\n",
       "0                    AAA.FieldFluence.11.0.31.62671x64     18       0   \n",
       "1                    AAA.FieldFluence.13.6.23.82217x64     18       0   \n",
       "2                   AAA.FieldFluence.15.1.61.110305x64     18       0   \n",
       "3                   AAA.FieldFluence.15.6.06.111663x64     18       0   \n",
       "4                  AAA.FieldVolumeDose.10.0.25.9776x64     18       0   \n",
       "..                                                 ...    ...     ...   \n",
       "199  Smart_LMC.LeafMotionsToActualFluence.10.0.28.9...     18       0   \n",
       "200  Smart_LMC.OptimalFluenceToLeafMotions.11.0.31....     18       0   \n",
       "201  Smart_LMC.OptimalFluenceToLeafMotions.13.6.23....     18       0   \n",
       "202  Smart_LMC.OptimalFluenceToLeafMotions.15.1.61....     18       0   \n",
       "203  Smart_LMC.OptimalFluenceToLeafMotions.15.6.06....     18       0   \n",
       "\n",
       "    Calls in progress Calls waiting  Algorithm                  Calculation  \\\n",
       "0                   0             0        AAA                 FieldFluence   \n",
       "1                   0             0        AAA                 FieldFluence   \n",
       "2                   0             0        AAA                 FieldFluence   \n",
       "3                   0             0        AAA                 FieldFluence   \n",
       "4                   0             0        AAA              FieldVolumeDose   \n",
       "..                ...           ...        ...                          ...   \n",
       "199                 0             0  Smart_LMC   LeafMotionsToActualFluence   \n",
       "200                 0             0  Smart_LMC  OptimalFluenceToLeafMotions   \n",
       "201                 0             0  Smart_LMC  OptimalFluenceToLeafMotions   \n",
       "202                 0             0  Smart_LMC  OptimalFluenceToLeafMotions   \n",
       "203                 0             0  Smart_LMC  OptimalFluenceToLeafMotions   \n",
       "\n",
       "            Version  \n",
       "0     11.0.31.62671  \n",
       "1     13.6.23.82217  \n",
       "2    15.1.61.110305  \n",
       "3    15.6.06.111663  \n",
       "4      10.0.25.9776  \n",
       "..              ...  \n",
       "199    10.0.28.9833  \n",
       "200   11.0.31.62671  \n",
       "201   13.6.23.82217  \n",
       "202   15.1.61.99312  \n",
       "203  15.6.06.111663  \n",
       "\n",
       "[204 rows x 8 columns]"
      ]
     },
     "execution_count": 38,
     "metadata": {},
     "output_type": "execute_result"
    }
   ],
   "source": [
    "trim_text(c, text_settings)"
   ]
  },
  {
   "cell_type": "code",
   "execution_count": 20,
   "id": "a882c6d9",
   "metadata": {},
   "outputs": [
    {
     "data": {
      "text/plain": [
       "Index(['Service name', 'Agents', 'Clients', 'Calls in progress',\n",
       "       'Calls waiting'],\n",
       "      dtype='object')"
      ]
     },
     "execution_count": 20,
     "metadata": {},
     "output_type": "execute_result"
    }
   ],
   "source": [
    "c.columns\n"
   ]
  }
 ],
 "metadata": {
  "kernelspec": {
   "display_name": "Python 3 (ipykernel)",
   "language": "python",
   "name": "python3"
  },
  "language_info": {
   "codemirror_mode": {
    "name": "ipython",
    "version": 3
   },
   "file_extension": ".py",
   "mimetype": "text/x-python",
   "name": "python",
   "nbconvert_exporter": "python",
   "pygments_lexer": "ipython3",
   "version": "3.9.18"
  }
 },
 "nbformat": 4,
 "nbformat_minor": 5
}
